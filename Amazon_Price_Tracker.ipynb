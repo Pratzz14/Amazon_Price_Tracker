{
 "cells": [
  {
   "cell_type": "markdown",
   "metadata": {},
   "source": [
    "This program notifies you via Gmail when the prices of a certain product drops down to a certian value. Make sure to change the URL to your specific product on Amazon. Even the User-Agent varies from browser to browser.\n"
   ]
  },
  {
   "cell_type": "code",
   "execution_count": 1,
   "metadata": {},
   "outputs": [],
   "source": [
    "import requests\n",
    "from bs4 import BeautifulSoup\n",
    "import smtplib\n",
    "import time\n",
    "\n",
    "URL='https://www.amazon.in/dp/B086689941/ref=sspa_dk_detail_0?psc=1&pd_rd_i=B086689941&pd_rd_w=EDKVP&pf_rd_p=1801b34c-8af9-42b5-8961-11f124edc99b&pd_rd_wg=Mbsbp&pf_rd_r=780XD5VBCPJ1V3WDSXPB&pd_rd_r=e047ea14-e9da-4886-a0ac-27af7c459c8d&spLa=ZW5jcnlwdGVkUXVhbGlmaWVyPUEyS1EwVjY0UEZRWDgmZW5jcnlwdGVkSWQ9QTA5NzIwMTYxVjVUTjZCSUFQMENZJmVuY3J5cHRlZEFkSWQ9QTAyNjQ1MjgxRFBKRkZLUzFYU0tWJndpZGdldE5hbWU9c3BfZGV0YWlsJmFjdGlvbj1jbGlja1JlZGlyZWN0JmRvTm90TG9nQ2xpY2s9dHJ1ZQ=='\n",
    "\n",
    "headers={\"User-Agent\":'Mozilla/5.0 (Windows NT 10.0; Win64; x64) AppleWebKit/537.36 (KHTML, like Gecko) Chrome/83.0.4103.61 Safari/537.36'}\n"
   ]
  },
  {
   "cell_type": "markdown",
   "metadata": {},
   "source": [
    "This part of function collects the price from Amazon page and compares it with your required price. Once the price decreases it calls a send_mail function. "
   ]
  },
  {
   "cell_type": "code",
   "execution_count": 2,
   "metadata": {},
   "outputs": [],
   "source": [
    "\n",
    "def check_price():\n",
    "    page=requests.get(URL,headers=headers)\n",
    "\n",
    "    soup=BeautifulSoup(page.content,'html.parser')\n",
    "    \n",
    "    price=soup.find(id=\"priceblock_ourprice\").get_text()\n",
    "    price=price[2:8]\n",
    "    i_price=price.translate({ord(i): None for i in ','})\n",
    "    i_price=int(i_price)\n",
    "\n",
    "    if (i_price < 40000):\n",
    "        send_mail()\n",
    "        \n",
    "    \n",
    "    print(i_price)"
   ]
  },
  {
   "cell_type": "markdown",
   "metadata": {},
   "source": [
    "This fuction sends the email to the user when the prices drop down. Make sure to enter your email id and password."
   ]
  },
  {
   "cell_type": "code",
   "execution_count": 3,
   "metadata": {},
   "outputs": [],
   "source": [
    "def send_mail():\n",
    "    try:\n",
    "        server = smtplib.SMTP('smtp.gmail.com', 587)\n",
    "        server.ehlo()\n",
    "        server.starttls() \n",
    "        server.ehlo()\n",
    "        \n",
    "        server.login('#email_id','#password')\n",
    "        \n",
    "        subject='Alert Amazon'\n",
    "        body='The price is down, click on this link: https://www.amazon.in/dp/B086689941/ref=sspa_dk_detail_0?psc=1&pd_rd_i=B086689941&pd_rd_w=EDKVP&pf_rd_p=1801b34c-8af9-42b5-8961-11f124edc99b&pd_rd_wg=Mbsbp&pf_rd_r=780XD5VBCPJ1V3WDSXPB&pd_rd_r=e047ea14-e9da-4886-a0ac-27af7c459c8d&spLa=ZW5jcnlwdGVkUXVhbGlmaWVyPUEyS1EwVjY0UEZRWDgmZW5jcnlwdGVkSWQ9QTA5NzIwMTYxVjVUTjZCSUFQMENZJmVuY3J5cHRlZEFkSWQ9QTAyNjQ1MjgxRFBKRkZLUzFYU0tWJndpZGdldE5hbWU9c3BfZGV0YWlsJmFjdGlvbj1jbGlja1JlZGlyZWN0JmRvTm90TG9nQ2xpY2s9dHJ1ZQ== '\n",
    "        \n",
    "        msg=f\"Subject: {subject}\\n\\n{body}\"\n",
    "        \n",
    "        server.sendmail('#sender_email','#reciever_email',msg)\n",
    "        \n",
    "        print(\"Email send successfully\")\n",
    "        server.quit()\n",
    "        \n",
    "        \n",
    "    except:\n",
    "        print(\"Somethings wrong ! \")"
   ]
  },
  {
   "cell_type": "markdown",
   "metadata": {},
   "source": [
    "The below code just checks once.\n",
    "To repeat it multiple time on a day interval use this code:\n",
    "while(True):\n",
    "    check_price()\n",
    "    time.sleep(86400)"
   ]
  },
  {
   "cell_type": "code",
   "execution_count": null,
   "metadata": {},
   "outputs": [],
   "source": [
    "check_price()"
   ]
  },
  {
   "cell_type": "code",
   "execution_count": null,
   "metadata": {},
   "outputs": [],
   "source": []
  }
 ],
 "metadata": {
  "kernelspec": {
   "display_name": "Python 3",
   "language": "python",
   "name": "python3"
  },
  "language_info": {
   "codemirror_mode": {
    "name": "ipython",
    "version": 3
   },
   "file_extension": ".py",
   "mimetype": "text/x-python",
   "name": "python",
   "nbconvert_exporter": "python",
   "pygments_lexer": "ipython3",
   "version": "3.7.4"
  }
 },
 "nbformat": 4,
 "nbformat_minor": 2
}
